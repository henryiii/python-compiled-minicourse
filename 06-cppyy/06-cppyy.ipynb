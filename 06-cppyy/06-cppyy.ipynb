{
 "cells": [
  {
   "cell_type": "markdown",
   "metadata": {
    "slideshow": {
     "slide_type": "slide"
    }
   },
   "source": [
    "# [CPPYY](http://cppyy.readthedocs.io/en/latest/)\n",
    "\n",
    "* Born from ROOT bindings (High Energy Physics, HEP)\n",
    "* Built on top of Cling (C++ Interpreter)\n",
    "* JIT, so can handle templates\n",
    "\n",
    "Downsides:\n",
    "\n",
    "* Header code runs in Cling (JIT)\n",
    "* Heavy *user* requirement (Cling)\n",
    "* Conflicts with ROOT, can't be properly used in HEP (ironic, but probably not a worry for anyone here)"
   ]
  },
  {
   "cell_type": "code",
   "execution_count": null,
   "metadata": {
    "slideshow": {
     "slide_type": "-"
    }
   },
   "outputs": [],
   "source": [
    "%%writefile SimpleClass.hpp\n",
    "#pragma once\n",
    "\n",
    "class Simple {\n",
    "    int x;\n",
    "    \n",
    "public:\n",
    "\n",
    "    Simple(int x): x(x) {}\n",
    "    \n",
    "    int get() const {\n",
    "        return x;\n",
    "    }\n",
    "    \n",
    "};"
   ]
  },
  {
   "cell_type": "code",
   "execution_count": null,
   "metadata": {
    "slideshow": {
     "slide_type": "subslide"
    }
   },
   "outputs": [],
   "source": [
    "import cppyy"
   ]
  },
  {
   "cell_type": "code",
   "execution_count": null,
   "metadata": {
    "slideshow": {
     "slide_type": "-"
    }
   },
   "outputs": [],
   "source": [
    "cppyy.include(\"SimpleClass.hpp\")\n",
    "x = cppyy.gbl.Simple(5)\n",
    "x.get()"
   ]
  },
  {
   "cell_type": "code",
   "execution_count": null,
   "metadata": {
    "slideshow": {
     "slide_type": "-"
    }
   },
   "outputs": [],
   "source": [
    "%%writefile SimpleTemplate.hpp\n",
    "#pragma once\n",
    "\n",
    "template<class T>\n",
    "T square(T x) {\n",
    "    return x*x;\n",
    "}"
   ]
  },
  {
   "cell_type": "code",
   "execution_count": null,
   "metadata": {
    "slideshow": {
     "slide_type": "-"
    }
   },
   "outputs": [],
   "source": [
    "cppyy.include(\"SimpleTemplate.hpp\")\n",
    "cppyy.gbl.square(5)"
   ]
  },
  {
   "cell_type": "code",
   "execution_count": null,
   "metadata": {},
   "outputs": [],
   "source": [
    "cppyy.gbl.square(2.5)"
   ]
  },
  {
   "cell_type": "markdown",
   "metadata": {},
   "source": [
    "This is the only technology (JIT) that can do this with tempalates! In PyBind11, you would build a list of overloads. Or in Cython, you would build a Fused Template. In both cases, you pick the types you bind beforehand. JIT can do the compilation on the fly!"
   ]
  },
  {
   "cell_type": "code",
   "execution_count": null,
   "metadata": {},
   "outputs": [],
   "source": []
  }
 ],
 "metadata": {
  "kernelspec": {
   "display_name": "Python 3 (ipykernel)",
   "language": "python",
   "name": "python3"
  },
  "language_info": {
   "codemirror_mode": {
    "name": "ipython",
    "version": 3
   },
   "file_extension": ".py",
   "mimetype": "text/x-python",
   "name": "python",
   "nbconvert_exporter": "python",
   "pygments_lexer": "ipython3",
   "version": "3.9.0"
  }
 },
 "nbformat": 4,
 "nbformat_minor": 4
}
