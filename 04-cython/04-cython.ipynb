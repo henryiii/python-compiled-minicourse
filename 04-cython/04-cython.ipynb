{
 "cells": [
  {
   "cell_type": "markdown",
   "metadata": {
    "slideshow": {
     "slide_type": "slide"
    }
   },
   "source": [
    "[![Cython](cython.png)](http://cython.org)\n",
    "\n",
    "\n",
    "\n",
    "* Built to be a Python+C language for high performance computations\n",
    "* Performance computation space in competition with Numba\n",
    "* Due to design, also makes binding easy\n",
    "* Easy to customize result\n",
    "* Can write Python 2 or 3, regardless of calling language\n",
    "* Works with both C and C++ (as an option)\n",
    "* Good development (Version 3.0 in advanced alpha stage!)\n",
    "* Used in SciPy and many other places.\n",
    "\n",
    "Downsides:\n",
    "\n",
    "* Requires learning a new(ish) language\n",
    "* Have to think with three hats\n",
    "* *Very* verbose\n",
    "* Not really the best binding tool. Not really the best acceleration tool."
   ]
  },
  {
   "cell_type": "code",
   "execution_count": null,
   "metadata": {},
   "outputs": [],
   "source": [
    "import sys\n",
    "\n",
    "if sys.platform.startswith(\"darwin\"):\n",
    "    %set_env CPATH=/Applications/Xcode.app/Contents/Developer/Platforms/MacOSX.platform/Developer/SDKs/MacOSX.sdk/usr/include\n",
    "    %set_env LIBRARY_PATH=/Library/Developer/CommandLineTools/SDKs/MacOSX.sdk/usr/lib"
   ]
  },
  {
   "cell_type": "markdown",
   "metadata": {},
   "source": [
    "# Using Cython in a notebook\n",
    "\n",
    "Cython comes with an IPython extension, making it simple to use in a notebook. Let's give it a try:"
   ]
  },
  {
   "cell_type": "code",
   "execution_count": null,
   "metadata": {
    "slideshow": {
     "slide_type": "subslide"
    }
   },
   "outputs": [],
   "source": [
    "%load_ext Cython"
   ]
  },
  {
   "cell_type": "code",
   "execution_count": null,
   "metadata": {},
   "outputs": [],
   "source": [
    "%%cython\n",
    "\n",
    "cimport cython\n",
    "\n",
    "def square(x: cython.int):\n",
    "    v = x*x\n",
    "    return v\n"
   ]
  },
  {
   "cell_type": "code",
   "execution_count": null,
   "metadata": {},
   "outputs": [],
   "source": [
    "square(4)"
   ]
  },
  {
   "cell_type": "markdown",
   "metadata": {},
   "source": [
    "Try adding `-a` to the magic; you can see the generated C code."
   ]
  },
  {
   "cell_type": "markdown",
   "metadata": {},
   "source": [
    "The rules of the Cython syntax are simple:\n",
    "\n",
    "* Follow Python syntax where something is valid in Python: `v = x*x` deduces the type of v\n",
    "* Otherwise, use C syntax: `int x` gives x a type\n",
    "* Unless the syntax addition to Python happened after Cython: `x: int` is valid Python but is not inferred by Cython. It does understand `cython.int` though.\n",
    "* And unless the syntax is invalid in Python: You can't dereference a pointer with `*x`; but only with `x[0]`.\n",
    "* And if concepts don't match, invent something completely bizarre. Type Fusion is like C++ templates, sort of.\n",
    "\n",
    "Okay, not that simple. Yes, it's a new language to learn."
   ]
  },
  {
   "cell_type": "markdown",
   "metadata": {
    "slideshow": {
     "slide_type": "subslide"
    }
   },
   "source": [
    "# Aside: Speed comparison Python, Cython, [Numba](https://numba.pydata.org)"
   ]
  },
  {
   "cell_type": "code",
   "execution_count": null,
   "metadata": {},
   "outputs": [],
   "source": [
    "def fp(x):\n",
    "    for _ in range(10_000_000):\n",
    "        x = x + 1\n",
    "    return x"
   ]
  },
  {
   "cell_type": "code",
   "execution_count": null,
   "metadata": {},
   "outputs": [],
   "source": [
    "%%time\n",
    "fp(1)"
   ]
  },
  {
   "cell_type": "code",
   "execution_count": null,
   "metadata": {},
   "outputs": [],
   "source": [
    "%%cython -a\n",
    "def fc(int x):\n",
    "    for _ in range(10_000_000):\n",
    "        x=x+1\n",
    "    return x"
   ]
  },
  {
   "cell_type": "code",
   "execution_count": null,
   "metadata": {},
   "outputs": [],
   "source": [
    "%%timeit\n",
    "fc(23)"
   ]
  },
  {
   "cell_type": "code",
   "execution_count": null,
   "metadata": {
    "slideshow": {
     "slide_type": "subslide"
    }
   },
   "outputs": [],
   "source": [
    "import numba\n",
    "\n",
    "\n",
    "@numba.jit(numba.int64(numba.int64))\n",
    "def fn(x):\n",
    "    for _ in range(10_000_000):\n",
    "        x = x + 1\n",
    "    return x"
   ]
  },
  {
   "cell_type": "code",
   "execution_count": null,
   "metadata": {},
   "outputs": [],
   "source": [
    "%time\n",
    "fn(41)"
   ]
  },
  {
   "cell_type": "code",
   "execution_count": null,
   "metadata": {},
   "outputs": [],
   "source": [
    "%%timeit\n",
    "fn(41)"
   ]
  },
  {
   "cell_type": "markdown",
   "metadata": {},
   "source": [
    "> ## Warning: this is just about the only speed test I can think of that shows Cython faster than Numba.\n",
    "> \n",
    "> The reason is that Cython pretty much makes a pure CPython object, while there is a tiny bit of bookkeeping that Numba does.\n",
    "\n",
    "By now, have you detected anything odd about our \"speed\" test? Are you happy with it?"
   ]
  },
  {
   "cell_type": "markdown",
   "metadata": {},
   "source": [
    "Let's check the output:"
   ]
  },
  {
   "cell_type": "code",
   "execution_count": null,
   "metadata": {},
   "outputs": [],
   "source": [
    "print(fn.inspect_asm((numba.int64,)))"
   ]
  },
  {
   "cell_type": "markdown",
   "metadata": {},
   "source": [
    "I'm not great at assembly, but I don't see a loop! Our compiler was too smart!"
   ]
  },
  {
   "cell_type": "markdown",
   "metadata": {
    "slideshow": {
     "slide_type": "subslide"
    }
   },
   "source": [
    "# Binding with [Cython](https://cython.org): C++"
   ]
  },
  {
   "cell_type": "code",
   "execution_count": null,
   "metadata": {
    "slideshow": {
     "slide_type": "-"
    }
   },
   "outputs": [],
   "source": [
    "%%writefile SimpleClass.hpp\n",
    "#pragma once\n",
    "\n",
    "class Simple {\n",
    "    int x;\n",
    "    \n",
    "public:\n",
    "\n",
    "    Simple(int x): x(x) {}\n",
    "    \n",
    "    int get() const {\n",
    "        return x;\n",
    "    }\n",
    "    \n",
    "};"
   ]
  },
  {
   "cell_type": "code",
   "execution_count": null,
   "metadata": {
    "slideshow": {
     "slide_type": "-"
    }
   },
   "outputs": [],
   "source": [
    "%%writefile simpleclass.pxd\n",
    "# distutils: language = c++\n",
    "\n",
    "cdef extern from \"SimpleClass.hpp\":\n",
    "    cdef cppclass Simple:\n",
    "        Simple(int x)\n",
    "        int get()"
   ]
  },
  {
   "cell_type": "code",
   "execution_count": null,
   "metadata": {
    "slideshow": {
     "slide_type": "subslide"
    }
   },
   "outputs": [],
   "source": [
    "%%writefile cythonclass.pyx\n",
    "# distutils: language = c++\n",
    "\n",
    "from simpleclass cimport Simple as cSimple\n",
    "\n",
    "cdef class Simple:\n",
    "    cdef cSimple *cself\n",
    "    \n",
    "    def __cinit__(self, int x):\n",
    "        self.cself = new cSimple(x)\n",
    "    \n",
    "    def get(self):\n",
    "        return self.cself.get()\n",
    "    \n",
    "    def __dealloc__(self):\n",
    "        del self.cself"
   ]
  },
  {
   "cell_type": "code",
   "execution_count": null,
   "metadata": {},
   "outputs": [],
   "source": [
    "%%writefile setup.py\n",
    "\n",
    "from setuptools import setup, Extension\n",
    "\n",
    "module1 = Extension('pysimple',\n",
    "                    sources=['cythonclass.pyx'],\n",
    "                    language='c++'\n",
    "                   )\n",
    "\n",
    "setup(name='pysimple', ext_modules=[module1])"
   ]
  },
  {
   "cell_type": "markdown",
   "metadata": {},
   "source": [
    "You can use `cythonize` on the command line to build the wrapper and look at it, but setuptools now natively supports Cython! If you do this manually, a pyproject.toml (PEP 517/518 build) to ensure Cython is available in the build environment (and as always, [distibute wheels](https://iscinumpy.gitlab.io/post/azure-devops-python-wheels)). I'll be writing nice guides on Scikit-HEP at some point in the near future that may be useful even if you are not in HEP."
   ]
  },
  {
   "cell_type": "code",
   "execution_count": null,
   "metadata": {
    "slideshow": {
     "slide_type": "subslide"
    }
   },
   "outputs": [],
   "source": [
    "!python setup.py build_ext --inplace"
   ]
  },
  {
   "cell_type": "code",
   "execution_count": null,
   "metadata": {},
   "outputs": [],
   "source": [
    "import pysimple\n",
    "\n",
    "x = pysimple.Simple(3)\n",
    "x.get()"
   ]
  },
  {
   "cell_type": "code",
   "execution_count": null,
   "metadata": {},
   "outputs": [],
   "source": []
  }
 ],
 "metadata": {
  "kernelspec": {
   "display_name": "Python 3 (ipykernel)",
   "language": "python",
   "name": "python3"
  },
  "language_info": {
   "codemirror_mode": {
    "name": "ipython",
    "version": 3
   },
   "file_extension": ".py",
   "mimetype": "text/x-python",
   "name": "python",
   "nbconvert_exporter": "python",
   "pygments_lexer": "ipython3",
   "version": "3.9.0"
  }
 },
 "nbformat": 4,
 "nbformat_minor": 4
}
