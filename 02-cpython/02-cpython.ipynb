{
 "cells": [
  {
   "cell_type": "markdown",
   "metadata": {
    "slideshow": {
     "slide_type": "slide"
    }
   },
   "source": [
    "# [CPython](python.org)\n",
    "\n",
    "* Let's see how bindings work before going into C++ binding tools\n",
    "* This is how CPython itself is implemented (and PyPy supports this too)\n",
    "\n",
    "> C reminder: `static` means visible in this file only"
   ]
  },
  {
   "cell_type": "code",
   "execution_count": null,
   "metadata": {},
   "outputs": [],
   "source": [
    "import sys\n",
    "\n",
    "if sys.platform.startswith(\"darwin\"):\n",
    "    %set_env CPATH=/Applications/Xcode.app/Contents/Developer/Platforms/MacOSX.platform/Developer/SDKs/MacOSX.sdk/usr/include\n",
    "    %set_env LIBRARY_PATH=/Library/Developer/CommandLineTools/SDKs/MacOSX.sdk/usr/lib"
   ]
  },
  {
   "cell_type": "markdown",
   "metadata": {},
   "source": [
    "First, here's the code we want to wrap:"
   ]
  },
  {
   "cell_type": "code",
   "execution_count": null,
   "metadata": {
    "slideshow": {
     "slide_type": "subslide"
    }
   },
   "outputs": [],
   "source": [
    "%%writefile pysimple.c\n",
    "\n",
    "#include <Python.h>\n",
    "\n",
    "float square(float x) {\n",
    "    return x*x;\n",
    "}"
   ]
  },
  {
   "cell_type": "markdown",
   "metadata": {},
   "source": [
    "Okay, now we need to manually build the Python -> C -> Python conversion. *All* Python objects, regardless of type, are `PyObject*`. All the necessary conversions are provided using `Py*` functions."
   ]
  },
  {
   "cell_type": "markdown",
   "metadata": {},
   "source": [
    "* `PyArg_ParseTuple(PyObject*, format, *result)` will parse a tuple into a C.\n",
    "* `PyFloat_FromDouble(double)` will convert a C item into a `PyObject*`."
   ]
  },
  {
   "cell_type": "code",
   "execution_count": null,
   "metadata": {
    "slideshow": {
     "slide_type": "subslide"
    }
   },
   "outputs": [],
   "source": [
    "%%writefile -a pysimple.c\n",
    "\n",
    "static PyObject* square_wrapper(PyObject* self, PyObject* args) {\n",
    "  float input, result;\n",
    "\n",
    "  if (!PyArg_ParseTuple(args, \"f\", &input)) {\n",
    "      return NULL;\n",
    "  }\n",
    "    \n",
    "  result = square(input);\n",
    "    \n",
    "  return PyFloat_FromDouble(result);\n",
    "}"
   ]
  },
  {
   "cell_type": "markdown",
   "metadata": {},
   "source": [
    "Next, we need a `PyMethodDef`. This is a structure that holds functions. The structure is \"name\", wrapper function, argument type, and doc string. Since C doesn't know when an array ends, you use a null terminated row at the end to signal that that you are done. The argument type is an item from [this list](https://docs.python.org/3/c-api/structures.html); I'm excited about the new `METH_FASTCALL` in 3.7+...\n",
    "\n",
    "Looking back, this could have been a *little* simpler with `METH_O`, which takes exactly one argument and therefore you'd avoid the Tuple."
   ]
  },
  {
   "cell_type": "code",
   "execution_count": null,
   "metadata": {
    "slideshow": {
     "slide_type": "subslide"
    }
   },
   "outputs": [],
   "source": [
    "%%writefile -a pysimple.c\n",
    "\n",
    "static PyMethodDef pysimple_methods[] = {\n",
    "   { \"square\", square_wrapper, METH_VARARGS, \"Square function\" },\n",
    "   { NULL,     NULL,           0,             NULL }\n",
    "};"
   ]
  },
  {
   "cell_type": "markdown",
   "metadata": {},
   "source": [
    "Now we need a module structure. I won't go into it in great detail; `PyModuleDef_HEAD_INIT` is always there. Then the name of the module, then the module docstring (or NULL), then a size for subinterpreters (-1 to disable), the the methods you defined above."
   ]
  },
  {
   "cell_type": "code",
   "execution_count": null,
   "metadata": {
    "slideshow": {
     "slide_type": "subslide"
    }
   },
   "outputs": [],
   "source": [
    "%%writefile -a pysimple.c\n",
    "\n",
    "static struct PyModuleDef pysimple_module = {\n",
    "    PyModuleDef_HEAD_INIT, \"pysimple\", NULL, -1, pysimple_methods\n",
    "};"
   ]
  },
  {
   "cell_type": "markdown",
   "metadata": {},
   "source": [
    "Finally we have the last bit; you need to define a symbol with a specific name, `PyInit_<name>`, where `<name>` is the name of the module."
   ]
  },
  {
   "cell_type": "code",
   "execution_count": null,
   "metadata": {
    "slideshow": {
     "slide_type": "subslide"
    }
   },
   "outputs": [],
   "source": [
    "%%writefile -a pysimple.c\n",
    "\n",
    "PyMODINIT_FUNC PyInit_pysimple(void) {\n",
    "    return PyModule_Create(&pysimple_module);\n",
    "}"
   ]
  },
  {
   "cell_type": "code",
   "execution_count": null,
   "metadata": {},
   "outputs": [],
   "source": []
  },
  {
   "cell_type": "markdown",
   "metadata": {},
   "source": [
    "To compile our module, we need to write a little setup.py. This is the correct way to compile it, and cross platform. You *can* just compile it by hand, which I've done here in the past, but it's very hard to get it right, and very system specific."
   ]
  },
  {
   "cell_type": "code",
   "execution_count": null,
   "metadata": {},
   "outputs": [],
   "source": [
    "%%writefile setup.py\n",
    "\n",
    "from setuptools import setup, Extension\n",
    "\n",
    "module1 = Extension('pysimple',\n",
    "                    sources=['pysimple.c']\n",
    "                   )\n",
    "\n",
    "setup(name='pysimple', ext_modules=[module1])"
   ]
  },
  {
   "cell_type": "code",
   "execution_count": null,
   "metadata": {},
   "outputs": [],
   "source": [
    "!python setup.py build_ext --inplace"
   ]
  },
  {
   "cell_type": "markdown",
   "metadata": {},
   "source": [
    "### Run:"
   ]
  },
  {
   "cell_type": "code",
   "execution_count": null,
   "metadata": {},
   "outputs": [],
   "source": [
    "import pysimple\n",
    "\n",
    "pysimple.square(2.0)"
   ]
  },
  {
   "cell_type": "code",
   "execution_count": null,
   "metadata": {},
   "outputs": [],
   "source": [
    "pysimple.square(1)"
   ]
  },
  {
   "cell_type": "code",
   "execution_count": null,
   "metadata": {},
   "outputs": [],
   "source": [
    "pysimple.__file__"
   ]
  },
  {
   "cell_type": "markdown",
   "metadata": {},
   "source": [
    "## [Python limited API: PEP 384](https://www.python.org/dev/peps/pep-0384)\n",
    "\n",
    "One possible benefit of building your own Python extensions this way is that you can use the *Python limited API*. This defines a reduced superset of functionality that you must stick to, but in return, you now can use a single compiled extension with *multiple* versions of Python, from a minimum (3.2 or later) to the current version (and future versions!).\n",
    "\n",
    "Notice that sadly, [PyBuffer](https://jakevdp.github.io/blog/2014/05/05/introduction-to-the-python-buffer-protocol/) is not part of the limited API."
   ]
  },
  {
   "cell_type": "markdown",
   "metadata": {},
   "source": [
    "To use:\n",
    "    \n",
    "* Define `#define Py_LIMITED_API 0x03060000` at the top of your file (above the Python.h include). This number is the minimum python version you want to support (`0x03030000`, or 3.2, is the earliest). Currently supported Python is 3.6+, just to let you know.\n",
    "* Set `py_limited_api=True` in the setuptools Extension\n",
    "* Make sure you don't use any of the (now missing) `Py*` functions that are not part of the limited API."
   ]
  },
  {
   "cell_type": "markdown",
   "metadata": {},
   "source": [
    "# Exercise\n",
    "\n",
    "Try to convert the above code to use the Python limited API by making the two recommended changes. How did the file name change? What did you have to do to get it to load the new file? (note: you also need to delete the more-specific Python 3.8 file)"
   ]
  }
 ],
 "metadata": {
  "kernelspec": {
   "display_name": "Python [conda env:compiled-minicourse] *",
   "language": "python",
   "name": "conda-env-compiled-minicourse-py"
  },
  "language_info": {
   "codemirror_mode": {
    "name": "ipython",
    "version": 3
   },
   "file_extension": ".py",
   "mimetype": "text/x-python",
   "name": "python",
   "nbconvert_exporter": "python",
   "pygments_lexer": "ipython3",
   "version": "3.9.0"
  }
 },
 "nbformat": 4,
 "nbformat_minor": 4
}
