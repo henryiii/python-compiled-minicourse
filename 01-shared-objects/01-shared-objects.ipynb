{
 "cells": [
  {
   "cell_type": "markdown",
   "metadata": {},
   "source": [
    "# Lesson 1: Shared object files\n",
    "\n",
    "> Disclaimer: we will be working in notebooks, because it's a great place to teach in. It's not a great place to write compiled code in, so we will write out the files we want to compile from the notebooks. In real life, just write out the files directly!"
   ]
  },
  {
   "cell_type": "code",
   "execution_count": null,
   "metadata": {},
   "outputs": [],
   "source": [
    "import sys\n",
    "\n",
    "# Compilers:\n",
    "CXX = (\n",
    "    \"clang++ -L/Library/Developer/CommandLineTools/SDKs/MacOSX.sdk/usr/lib\"\n",
    "    if \"darwin\" in sys.platform\n",
    "    else \"g++\"\n",
    ")\n",
    "CC = (\n",
    "    \"clang -L/Library/Developer/CommandLineTools/SDKs/MacOSX.sdk/usr/lib\"\n",
    "    if \"darwin\" in sys.platform\n",
    "    else \"gcc\"\n",
    ")"
   ]
  },
  {
   "cell_type": "markdown",
   "metadata": {
    "slideshow": {
     "slide_type": "slide"
    }
   },
   "source": [
    "# What is meant by bindings?\n",
    "\n",
    "Bindings allow a function(alitiy) in a library to be accessed from Python.\n",
    "\n",
    "#### We will start with this example:"
   ]
  },
  {
   "cell_type": "code",
   "execution_count": null,
   "metadata": {},
   "outputs": [],
   "source": [
    "%%writefile simple.c\n",
    "\n",
    "float square(float x) {\n",
    "    return x*x;\n",
    "}"
   ]
  },
  {
   "cell_type": "markdown",
   "metadata": {},
   "source": [
    "Depending on your platform, you may normally use gcc (Linux) or clang (macOS) to compile.  If you are on Windows, you might want to work in the Linux-as-a-Subsystem for this one example. There are better, cross platform ways to compile extensions that we'll see soon."
   ]
  },
  {
   "cell_type": "code",
   "execution_count": null,
   "metadata": {},
   "outputs": [],
   "source": [
    "!{CC} -shared -o simple.so simple.c"
   ]
  },
  {
   "cell_type": "markdown",
   "metadata": {},
   "source": [
    "#### Desired usage in Python:\n",
    "\n",
    "```python\n",
    "y = square(x)\n",
    "```"
   ]
  },
  {
   "cell_type": "markdown",
   "metadata": {
    "slideshow": {
     "slide_type": "subslide"
    }
   },
   "source": [
    "# [ctypes](https://docs.python.org/3.7/library/ctypes.html)\n",
    "\n",
    "* 0 dependencies\n",
    "* Shared libraries with C interfaces only\n",
    "* No help with creating/managing the SO's.\n",
    "\n",
    "C bindings are very easy. Just compile into a shared library, then open it in Python with the built in [ctypes](https://docs.python.org/3.7/library/ctypes.html) module:"
   ]
  },
  {
   "cell_type": "code",
   "execution_count": null,
   "metadata": {},
   "outputs": [],
   "source": [
    "import ctypes\n",
    "\n",
    "lib = ctypes.cdll.LoadLibrary(\"./simple.so\")"
   ]
  },
  {
   "cell_type": "markdown",
   "metadata": {},
   "source": [
    "> Warning: You can only load a file once; future loads just reuse the existing library (much like Python imports). So if you change the file, you need to restart the kernel.\n",
    ">\n",
    "> Also, this may inherit the changes to Windows DLL path loading in Python 3.8+, so keep that in mind if you have trouble loading an so (dll)."
   ]
  },
  {
   "cell_type": "markdown",
   "metadata": {},
   "source": [
    "Now, we need to set the argument types - they can't be inferred from an SO."
   ]
  },
  {
   "cell_type": "code",
   "execution_count": null,
   "metadata": {},
   "outputs": [],
   "source": [
    "lib.square.argtypes = (ctypes.c_float,)\n",
    "lib.square.restype = ctypes.c_float"
   ]
  },
  {
   "cell_type": "code",
   "execution_count": null,
   "metadata": {},
   "outputs": [],
   "source": [
    "#%%timeit\n",
    "lib.square(2.5)"
   ]
  },
  {
   "cell_type": "markdown",
   "metadata": {},
   "source": [
    "Notice what was required and why:\n",
    "\n",
    "1. First we load the library, just handing the file we want to open.\n",
    "1. Next, we set `.argtypes` (argument types) with a iterable of types and `.restype` with the return type. We had to use the types from ctypes since compiled types are not the same as Python types. SO's do not store signatures!"
   ]
  },
  {
   "cell_type": "markdown",
   "metadata": {},
   "source": [
    "There is an alternate way to do this:\n",
    "\n",
    "1. Create a new C Function type, listing the return type, then the argument type(s) if there are any. Yes, this is different order and structure than Type Hinting in modern Python..."
   ]
  },
  {
   "cell_type": "code",
   "execution_count": null,
   "metadata": {},
   "outputs": [],
   "source": [
    "float_float_t = ctypes.CFUNCTYPE(ctypes.c_float, ctypes.c_float)"
   ]
  },
  {
   "cell_type": "markdown",
   "metadata": {},
   "source": [
    "Now \"cast\" the function with your function type."
   ]
  },
  {
   "cell_type": "code",
   "execution_count": null,
   "metadata": {},
   "outputs": [],
   "source": [
    "squarefunc = float_float_t(lib.square)"
   ]
  },
  {
   "cell_type": "markdown",
   "metadata": {},
   "source": [
    "And this also works."
   ]
  },
  {
   "cell_type": "code",
   "execution_count": null,
   "metadata": {},
   "outputs": [],
   "source": [
    "#%%timeit\n",
    "squarefunc(2.0)"
   ]
  },
  {
   "cell_type": "markdown",
   "metadata": {},
   "source": [
    "However, it sets up a *little* bit of extra machinery so it's a hair slower. However, this is itself now a valid c_type and can be passed to code! You can even wrap Python functions (won't be faster, but powerful, nevertheless)!"
   ]
  },
  {
   "cell_type": "markdown",
   "metadata": {},
   "source": [
    "Suggestion: wrap your library in a class!"
   ]
  },
  {
   "cell_type": "code",
   "execution_count": null,
   "metadata": {},
   "outputs": [],
   "source": [
    "class SimpleLib:\n",
    "    def __init__(self, file_to_load: str):\n",
    "        self._lib = ctypes.cdll.LoadLibrary(file_to_load)\n",
    "        self._lib.square.argtypes = (ctypes.c_float,)\n",
    "        self._lib.square.restype = ctypes.c_float\n",
    "\n",
    "    def square(self, x: float) -> float:\n",
    "        return self._lib.square(x)"
   ]
  },
  {
   "cell_type": "code",
   "execution_count": null,
   "metadata": {},
   "outputs": [],
   "source": [
    "simple = SimpleLib(\"./simple.so\")\n",
    "simple.square(2)"
   ]
  },
  {
   "cell_type": "markdown",
   "metadata": {},
   "source": [
    "> Side note: If you use Python 2, **NEVER** forget the `(object)` after a class definition. I'm including type hints here so hopefully it is obvious that it's not Python 2 compatible as written."
   ]
  },
  {
   "cell_type": "markdown",
   "metadata": {},
   "source": [
    "There is a benefit to these types; they can wrap pure Python functions and make them fully callable from C, as well! Not fast, but can be done."
   ]
  },
  {
   "cell_type": "markdown",
   "metadata": {},
   "source": [
    "### But what about C++ (and all other languages)?\n",
    "\n",
    "This wasn't really language specific, it is just a property of compiled libraries. However, C++ (and possibly other libraries) do not by default provide a nice exported interface. In C++, because of features like overloading, the names are \"mangled\" in a compiler specific way. But you can manually export a nice interface:"
   ]
  },
  {
   "cell_type": "markdown",
   "metadata": {},
   "source": [
    " Let's try a slightly more advanced example, this time in C++:"
   ]
  },
  {
   "cell_type": "code",
   "execution_count": null,
   "metadata": {},
   "outputs": [],
   "source": [
    "%%writefile templates.cpp\n",
    "\n",
    "\n",
    "template<class T>\n",
    "T square(T x) {\n",
    "    return x*x;\n",
    "}\n",
    "\n",
    "\n",
    "extern \"C\" {\n",
    "    int square_int(int x) {\n",
    "        return square<int>(x);\n",
    "    }\n",
    "    \n",
    "    double square_double(double x) {\n",
    "        return square<double>(x);\n",
    "    }\n",
    "}"
   ]
  },
  {
   "cell_type": "markdown",
   "metadata": {},
   "source": [
    "This is not Python specific! If you want to load a SO (DLL) from any library, you need to do this."
   ]
  },
  {
   "cell_type": "code",
   "execution_count": null,
   "metadata": {},
   "outputs": [],
   "source": [
    "!{CXX} templates.cpp -shared -o templates.so"
   ]
  },
  {
   "cell_type": "code",
   "execution_count": null,
   "metadata": {},
   "outputs": [],
   "source": [
    "from functools import singledispatchmethod\n",
    "\n",
    "\n",
    "class TemplateLib(object):\n",
    "    def __init__(self, file_to_load: str):\n",
    "        self._lib = ctypes.cdll.LoadLibrary(file_to_load)\n",
    "\n",
    "        self._lib.square_double.argtypes = (ctypes.c_double,)\n",
    "        self._lib.square_double.restype = ctypes.c_double\n",
    "\n",
    "        self._lib.square_int.argtypes = (ctypes.c_int,)\n",
    "        self._lib.square_int.restype = ctypes.c_int\n",
    "\n",
    "    @singledispatchmethod\n",
    "    def square(self, arg):\n",
    "        raise NotImplementedError(\"Not a registered type\")\n",
    "\n",
    "    @square.register\n",
    "    def _(self, x: int):\n",
    "        return self._lib.square_int(x)\n",
    "\n",
    "    @square.register\n",
    "    def _(self, x: float):\n",
    "        return self._lib.square_double(x)"
   ]
  },
  {
   "cell_type": "code",
   "execution_count": null,
   "metadata": {},
   "outputs": [],
   "source": [
    "templates = TemplateLib(\"./templates.so\")"
   ]
  },
  {
   "cell_type": "code",
   "execution_count": null,
   "metadata": {},
   "outputs": [],
   "source": [
    "templates.square(2)"
   ]
  },
  {
   "cell_type": "code",
   "execution_count": null,
   "metadata": {},
   "outputs": [],
   "source": [
    "templates.square(2.0)"
   ]
  },
  {
   "cell_type": "markdown",
   "metadata": {},
   "source": [
    "## NumPy tools\n",
    "\n",
    "Let's briefly mention NumPy has adapters to help you with ctypes, called [numpy.ctypeslib](https://numpy.org/doc/stable/reference/routines.ctypeslib.html?highlight=ctypeslib#module-numpy.ctypeslib). You can convert to/from *any* object providing an `__array_interface__`, like NumPy arrays. It has a loader with more consistent defaults across operating systems. You also have a special pointer that can do bounds checking and such for array arguments."
   ]
  },
  {
   "cell_type": "markdown",
   "metadata": {
    "slideshow": {
     "slide_type": "subslide"
    }
   },
   "source": [
    "# [CFFI](http://cffi.readthedocs.io/en/latest/overview.html)\n",
    "\n",
    "* The *C Foreign Function Interface* for Python\n",
    "* C only\n",
    "* Developed for PyPy, but available in CPython too\n",
    "\n",
    "The same example as before:"
   ]
  },
  {
   "cell_type": "code",
   "execution_count": null,
   "metadata": {
    "slideshow": {
     "slide_type": "-"
    }
   },
   "outputs": [],
   "source": [
    "from cffi import FFI\n",
    "\n",
    "ffi = FFI()\n",
    "\n",
    "ffi.cdef(\"float square(float);\")\n",
    "\n",
    "C = ffi.dlopen(\"./simple.so\")\n",
    "\n",
    "C.square(2.0)"
   ]
  },
  {
   "cell_type": "code",
   "execution_count": null,
   "metadata": {},
   "outputs": [],
   "source": [
    "C.square"
   ]
  },
  {
   "cell_type": "markdown",
   "metadata": {},
   "source": [
    "Notice we were able to give a C header this time; no futzing around with C function types by hand. "
   ]
  },
  {
   "cell_type": "markdown",
   "metadata": {},
   "source": [
    "### Try it yourself\n",
    "\n",
    "Let's try it now. We'll take a few minutes to play with the code; we are also available to help with troubleshooting at this time. Double the elements in this array (for simplicity, do it in-place):\n",
    "\n",
    "<!---\n",
    "\n",
    "alib.squares.argtypes = (ctypes.POINTER(ctypes.c_float), ctypes.c_int)\n",
    "alib.squares.restype = None\n",
    "\n",
    "alib.squares(np.ctypeslib.as_ctypes(arr), arr.size)\n",
    "\n",
    "alib.squares.argtypes = (np.ctypeslib.ndpointer(dtype=np.float32, ndim=1), ctypes.c_int)\n",
    "alib.squares.restype = None\n",
    "--->"
   ]
  },
  {
   "cell_type": "code",
   "execution_count": null,
   "metadata": {},
   "outputs": [],
   "source": [
    "%%writefile array_square.c\n",
    "\n",
    "void squares(float* arr, int size) {\n",
    "    for(int i=0; i<size; i++)\n",
    "        arr[i] = arr[i]*arr[i];\n",
    "}"
   ]
  },
  {
   "cell_type": "code",
   "execution_count": null,
   "metadata": {},
   "outputs": [],
   "source": [
    "!{CC} array_square.c -shared -o array_square.so"
   ]
  },
  {
   "cell_type": "code",
   "execution_count": null,
   "metadata": {},
   "outputs": [],
   "source": [
    "import numpy as np\n",
    "import ctypes\n",
    "\n",
    "alib = ctypes.cdll.LoadLibrary(\"./array_square.so\")"
   ]
  },
  {
   "cell_type": "code",
   "execution_count": null,
   "metadata": {},
   "outputs": [],
   "source": [
    "...  # Prepare the function"
   ]
  },
  {
   "cell_type": "markdown",
   "metadata": {},
   "source": [
    "Remember to match the types! This is a 32 bit float, not a 64 bit double!"
   ]
  },
  {
   "cell_type": "code",
   "execution_count": null,
   "metadata": {},
   "outputs": [],
   "source": [
    "arr = np.array([1, 2, 3, 4, 5], dtype=np.float32)"
   ]
  },
  {
   "cell_type": "code",
   "execution_count": null,
   "metadata": {},
   "outputs": [],
   "source": [
    "...  # Call the function"
   ]
  },
  {
   "cell_type": "code",
   "execution_count": null,
   "metadata": {},
   "outputs": [],
   "source": [
    "arr"
   ]
  },
  {
   "cell_type": "markdown",
   "metadata": {},
   "source": [
    "# Mix and match with Numba and more\n",
    "\n",
    "We can mix ctypes (or cffi) [with Numba](http://numba.pydata.org/numba-doc/0.15.1/interface_c.html), as well! Here's another way to do the above problem:"
   ]
  },
  {
   "cell_type": "code",
   "execution_count": null,
   "metadata": {},
   "outputs": [],
   "source": [
    "import numpy as np\n",
    "\n",
    "arr = np.random.randint(1, 10, size=10_000)"
   ]
  },
  {
   "cell_type": "code",
   "execution_count": null,
   "metadata": {},
   "outputs": [],
   "source": [
    "import numba"
   ]
  },
  {
   "cell_type": "code",
   "execution_count": null,
   "metadata": {},
   "outputs": [],
   "source": [
    "# Question: Why do I have to do this? Any thoughts?\n",
    "csquare = lib.square\n",
    "\n",
    "\n",
    "@numba.vectorize\n",
    "def squares(x):\n",
    "    return csquare(x)"
   ]
  },
  {
   "cell_type": "code",
   "execution_count": null,
   "metadata": {},
   "outputs": [],
   "source": [
    "%%timeit\n",
    "squares(arr)"
   ]
  },
  {
   "cell_type": "code",
   "execution_count": null,
   "metadata": {},
   "outputs": [],
   "source": []
  }
 ],
 "metadata": {
  "kernelspec": {
   "display_name": "Python 3 (ipykernel)",
   "language": "python",
   "name": "python3"
  },
  "language_info": {
   "codemirror_mode": {
    "name": "ipython",
    "version": 3
   },
   "file_extension": ".py",
   "mimetype": "text/x-python",
   "name": "python",
   "nbconvert_exporter": "python",
   "pygments_lexer": "ipython3",
   "version": "3.9.0"
  }
 },
 "nbformat": 4,
 "nbformat_minor": 4
}
