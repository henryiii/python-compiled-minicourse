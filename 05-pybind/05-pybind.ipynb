{
 "cells": [
  {
   "cell_type": "markdown",
   "metadata": {
    "slideshow": {
     "slide_type": "slide"
    }
   },
   "source": [
    "[![PyBind11](pybind11.png)](http://pybind11.readthedocs.io/en/stable/)\n",
    "\n",
    "* Similar to Boost::Python, but easier to build\n",
    "* Pure C++11 (no new language required), no dependencies\n",
    "* Builds remain simple and don't require preprocessing\n",
    "* Easy to customize result\n",
    "* Great Gitter community\n",
    "* Used in [GooFit 2.1+](https://goofit.github.io) for CUDA too [[CHEP talk]](https://indico.cern.ch/event/587955/contributions/2938087/)\n",
    "* Used in boost-histogram, SciPy, PyTorch, Google, and more.\n",
    "* Big updates to build system in 2.6, great developers ;)\n",
    "\n",
    "Downsides:\n",
    "* Still verbose (but highly customized interface is likely worth it in most cases)"
   ]
  },
  {
   "cell_type": "code",
   "execution_count": null,
   "metadata": {
    "slideshow": {
     "slide_type": "-"
    }
   },
   "outputs": [],
   "source": [
    "%%writefile SimpleClass.hpp\n",
    "#pragma once\n",
    "\n",
    "class Simple {\n",
    "    int x;\n",
    "    \n",
    "public:\n",
    "\n",
    "    Simple(int x): x(x) {}\n",
    "    \n",
    "    int get() const {\n",
    "        return x;\n",
    "    }\n",
    "    \n",
    "};"
   ]
  },
  {
   "cell_type": "code",
   "execution_count": null,
   "metadata": {
    "slideshow": {
     "slide_type": "subslide"
    }
   },
   "outputs": [],
   "source": [
    "%%writefile pybindclass.cpp\n",
    "\n",
    "#include <pybind11/pybind11.h>\n",
    "#include \"SimpleClass.hpp\"\n",
    "\n",
    "namespace py = pybind11;\n",
    "\n",
    "PYBIND11_MODULE(pybindclass, m) {\n",
    "    py::class_<Simple>(m, \"Simple\")\n",
    "        .def(py::init<int>())\n",
    "        .def(\"get\", &Simple::get)\n",
    "    ;\n",
    "}"
   ]
  },
  {
   "cell_type": "markdown",
   "metadata": {},
   "source": [
    "UNIX only! Next section will include Windows compatible builds."
   ]
  },
  {
   "cell_type": "code",
   "execution_count": null,
   "metadata": {},
   "outputs": [],
   "source": [
    "import os\n",
    "import sys\n",
    "from pybind11 import get_include\n",
    "\n",
    "inc = \"-I \" + get_include()\n",
    "plat = \"-undefined dynamic_lookup\" if \"darwin\" in sys.platform else \"-fPIC\"\n",
    "pyinc = !python3-config --cflags\n",
    "\n",
    "print(f\"{inc = }\\n\")\n",
    "print(f\"{plat = }\\n\")\n",
    "print(f\"{pyinc.s = }\\n\")"
   ]
  },
  {
   "cell_type": "code",
   "execution_count": null,
   "metadata": {
    "slideshow": {
     "slide_type": "subslide"
    }
   },
   "outputs": [],
   "source": [
    "!c++ -std=c++11 pybindclass.cpp -shared {inc} {pyinc.s} -o pybindclass.so {plat}"
   ]
  },
  {
   "cell_type": "code",
   "execution_count": null,
   "metadata": {},
   "outputs": [],
   "source": [
    "import pybindclass\n",
    "\n",
    "x = pybindclass.Simple(4)\n",
    "x.get()"
   ]
  },
  {
   "cell_type": "markdown",
   "metadata": {},
   "source": [
    "## More binding situations\n",
    "\n",
    "Let's take a look at other binding situations."
   ]
  },
  {
   "cell_type": "code",
   "execution_count": null,
   "metadata": {},
   "outputs": [],
   "source": [
    "%%writefile VectorClass.hpp\n",
    "#pragma once\n",
    "\n",
    "class Vector2D {\n",
    "    double x;\n",
    "    double y;\n",
    "    \n",
    "public:\n",
    "\n",
    "    Vector2D(double x, double y): x(x), y(y) {}\n",
    "    \n",
    "    float get_x() const {\n",
    "        return x;\n",
    "    }\n",
    "    \n",
    "    float get_y() const {\n",
    "        return y;\n",
    "    }\n",
    "    \n",
    "    void set_x(float val) {\n",
    "        x = val;\n",
    "    }\n",
    "    \n",
    "    void set_y(float val) {\n",
    "        y = val;\n",
    "    }\n",
    "\n",
    "    \n",
    "    Vector2D& operator+= (const Vector2D& other) {\n",
    "        x += other.x;\n",
    "        y += other.y;\n",
    "        return *this;\n",
    "    }\n",
    "    \n",
    "    Vector2D operator+ (const Vector2D& other) const {\n",
    "        return Vector2D(x + other.x, y + other.y);\n",
    "    }\n",
    "};"
   ]
  },
  {
   "cell_type": "markdown",
   "metadata": {},
   "source": [
    "The binding code for this will show a few more features than before."
   ]
  },
  {
   "cell_type": "code",
   "execution_count": null,
   "metadata": {},
   "outputs": [],
   "source": [
    "%%writefile vectorclass.cpp\n",
    "\n",
    "#include <pybind11/pybind11.h>\n",
    "#include <pybind11/operators.h>\n",
    "#include \"VectorClass.hpp\"\n",
    "\n",
    "namespace py = pybind11;\n",
    "using namespace pybind11::literals;\n",
    "\n",
    "PYBIND11_MODULE(vectorclass, m) {\n",
    "    py::class_<Vector2D>(m, \"Vector2D\")\n",
    "        .def(py::init<double, double>(), \"x\"_a, \"y\"_a)\n",
    "        .def_property(\"x\", &Vector2D::get_x, &Vector2D::set_x)\n",
    "        .def_property(\"y\", &Vector2D::get_y, &Vector2D::set_y)\n",
    "        .def(py::self += py::self)\n",
    "        .def(py::self + py::self)\n",
    "        .def(\"__repr__\", [](py::object self){\n",
    "            return py::str(\"{0.__class__.__name__}({0.x}, {0.y})\").format(self);\n",
    "        })\n",
    "    ;\n",
    "}"
   ]
  },
  {
   "cell_type": "markdown",
   "metadata": {},
   "source": [
    "Important / new points:\n",
    "\n",
    "* Initializers are really easy, even if overloaded. Just use `py::init<...>()`.\n",
    "* You can specify argument names with `\"...\"_a` and `using namespace pybind11::literals`.\n",
    "* Properties allow you to specify a get and set function.\n",
    "* The pybind11/operators.h header lets you describe operations with py::self\n",
    "* You can manually add special functions\n",
    "* There doesn't have to be a method; you can bind a lambda function as well.\n",
    "* You can use a class instance _OR_ a py::object, and you can cast between them with py::cast (not shown).\n",
    "* Many python classes are provided, like py::str, with common methods, like .format.\n",
    "* You can access any python method with .attr (not shown)."
   ]
  },
  {
   "cell_type": "markdown",
   "metadata": {},
   "source": [
    "Feel free to play with this example. Most importantly, remember to restart the notebook, because Python caches imports (which we've seen before)."
   ]
  },
  {
   "cell_type": "code",
   "execution_count": null,
   "metadata": {},
   "outputs": [],
   "source": [
    "!c++ -std=c++11 vectorclass.cpp -shared {inc} {pyinc.s} -o vectorclass.so {plat}"
   ]
  },
  {
   "cell_type": "code",
   "execution_count": null,
   "metadata": {},
   "outputs": [],
   "source": [
    "import vectorclass\n",
    "\n",
    "v = vectorclass.Vector2D(1, 2)\n",
    "print(f\"{v.x = }, {v.y = }\")"
   ]
  },
  {
   "cell_type": "code",
   "execution_count": null,
   "metadata": {},
   "outputs": [],
   "source": [
    "v"
   ]
  },
  {
   "cell_type": "code",
   "execution_count": null,
   "metadata": {},
   "outputs": [],
   "source": [
    "v + v"
   ]
  },
  {
   "cell_type": "code",
   "execution_count": null,
   "metadata": {},
   "outputs": [],
   "source": [
    "vectorclass.Vector2D(x=2, y=4)"
   ]
  },
  {
   "cell_type": "markdown",
   "metadata": {},
   "source": [
    "Pybind11 has fantastic documentation, and supports a lot of situations.\n",
    "\n",
    "* Embedded mode (runs in reverse, calling Python from C++)\n",
    "* Smart pointers support\n",
    "* Variant support (C++17 or custom variants like from Boost)\n",
    "* NumPy support (_without_ requiring NumPy during the compile!)\n",
    "* Eigen support (built-in extension)\n",
    "* Several external extensions provided (JSON, Abisel, and more)"
   ]
  },
  {
   "cell_type": "markdown",
   "metadata": {},
   "source": [
    "Design details:\n",
    "\n",
    "* Functions make a call-chain to handle overloads. This means there is a _little_ more overhead in calling a function than some other systems.\n",
    "* The focus of the library is making _small_ extensions, if faster == bigger, it probably won't fly."
   ]
  }
 ],
 "metadata": {
  "kernelspec": {
   "display_name": "Python 3 (ipykernel)",
   "language": "python",
   "name": "python3"
  },
  "language_info": {
   "codemirror_mode": {
    "name": "ipython",
    "version": 3
   },
   "file_extension": ".py",
   "mimetype": "text/x-python",
   "name": "python",
   "nbconvert_exporter": "python",
   "pygments_lexer": "ipython3",
   "version": "3.9.0"
  }
 },
 "nbformat": 4,
 "nbformat_minor": 4
}
