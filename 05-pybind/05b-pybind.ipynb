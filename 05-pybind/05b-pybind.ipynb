{
 "cells": [
  {
   "cell_type": "markdown",
   "metadata": {
    "slideshow": {
     "slide_type": "slide"
    }
   },
   "source": [
    "# Binding detailed example: Minuit2\n",
    "\n",
    "Let's try a non-trivial example: Minuit2 (6.14.0 standalone edition)\n",
    "\n",
    "### Requirements\n",
    "\n",
    "* Minuit2 standalone edition (included)\n",
    "\n",
    "### Expectations\n",
    "* Be able to minimize a very simple function and get some parameters"
   ]
  },
  {
   "cell_type": "markdown",
   "metadata": {
    "slideshow": {
     "slide_type": "slide"
    }
   },
   "source": [
    "# Step 1: Get source\n",
    "\n",
    "* Download Minuit2 source (already provided in `minuit2`)"
   ]
  },
  {
   "cell_type": "markdown",
   "metadata": {
    "slideshow": {
     "slide_type": "slide"
    }
   },
   "source": [
    "# Step 2: Plan interface\n",
    "\n",
    "* You should know what the C++ looks like, and know what you want the Python to look like\n",
    "* For now, let's replicate the C++ experience\n",
    "\n",
    "For example: a simple minimizer for $f(x) = x^2$ (should quickly find 0 as minimum):\n",
    "\n",
    "* Define FCN\n",
    "* Setup parameters\n",
    "* Minimize\n",
    "* Print result\n",
    "\n",
    "Will use print out for illustration (instead of `MnPrint::SetLevel`)"
   ]
  },
  {
   "cell_type": "code",
   "execution_count": null,
   "metadata": {
    "slideshow": {
     "slide_type": "subslide"
    }
   },
   "outputs": [],
   "source": [
    "%%writefile SimpleFCN.h\n",
    "#pragma once\n",
    "\n",
    "#include <Minuit2/FCNBase.h>\n",
    "#include <Minuit2/FunctionMinimum.h>\n",
    "#include <Minuit2/MnPrint.h>\n",
    "#include <Minuit2/MnMigrad.h>\n",
    "\n",
    "using namespace ROOT::Minuit2;\n",
    "\n",
    "class SimpleFCN : public FCNBase {\n",
    "    // Always 0.5 for these sorts of fits\n",
    "    \n",
    "    double Up() const override {return 0.5;}\n",
    "    \n",
    "    // This computes whatever you are going to minimize\n",
    "    double operator()(const std::vector<double> &v) const override {\n",
    "        std::cout << \"val = \" << v.at(0) << std::endl;\n",
    "        return v.at(0)*v.at(0);\n",
    "    }\n",
    "};"
   ]
  },
  {
   "cell_type": "code",
   "execution_count": null,
   "metadata": {
    "slideshow": {
     "slide_type": "subslide"
    }
   },
   "outputs": [],
   "source": [
    "%%writefile simpleminuit.cpp\n",
    "#include \"SimpleFCN.h\"\n",
    "\n",
    "int main() {\n",
    "    SimpleFCN fcn;\n",
    "    MnUserParameters upar;\n",
    "    upar.Add(\"x\", 1., 0.1);\n",
    "    MnMigrad migrad(fcn, upar);\n",
    "    FunctionMinimum min = migrad();\n",
    "    std::cout << min << std::endl;\n",
    "}"
   ]
  },
  {
   "cell_type": "code",
   "execution_count": null,
   "metadata": {
    "slideshow": {
     "slide_type": "subslide"
    }
   },
   "outputs": [],
   "source": [
    "%%writefile CMakeLists.txt\n",
    "\n",
    "cmake_minimum_required(VERSION 3.4)\n",
    "project(Minuit2SimpleExamle LANGUAGES CXX)\n",
    "\n",
    "add_subdirectory(minuit2)\n",
    "\n",
    "# Temporary patch, only needed in some versions of Minuit2\n",
    "target_compile_definitions(Minuit2Math PUBLIC MATHCORE_STANDALONE)\n",
    "\n",
    "add_executable(simpleminuit simpleminuit.cpp SimpleFCN.h)\n",
    "target_link_libraries(simpleminuit PRIVATE Minuit2::Minuit2)"
   ]
  },
  {
   "cell_type": "markdown",
   "metadata": {
    "slideshow": {
     "slide_type": "subslide"
    }
   },
   "source": [
    "Standard CMake configure and build (using Ninja instead of Make for speed)"
   ]
  },
  {
   "cell_type": "code",
   "execution_count": null,
   "metadata": {
    "slideshow": {
     "slide_type": "-"
    }
   },
   "outputs": [],
   "source": [
    "!cmake -GNinja .\n",
    "!cmake --build ."
   ]
  },
  {
   "cell_type": "code",
   "execution_count": null,
   "metadata": {
    "slideshow": {
     "slide_type": "subslide"
    }
   },
   "outputs": [],
   "source": [
    "!./simpleminuit"
   ]
  },
  {
   "cell_type": "markdown",
   "metadata": {
    "slideshow": {
     "slide_type": "slide"
    }
   },
   "source": [
    "## Step 3: Bind parts we need\n",
    "\n",
    "* subclassable FCNBase\n",
    "* MnUserParameters (constructor and `Add(string, double, double)`)\n",
    "* MnMigrad (constructor and operator())\n",
    "* FunctionMinimum (cout)\n"
   ]
  },
  {
   "cell_type": "code",
   "execution_count": null,
   "metadata": {},
   "outputs": [],
   "source": [
    "%mkdir pyminuit2"
   ]
  },
  {
   "cell_type": "markdown",
   "metadata": {
    "slideshow": {
     "slide_type": "slide"
    }
   },
   "source": [
    "## Recommended structure of a Pybind11 program\n",
    "\n",
    "#### main.cpp\n",
    "\n",
    "* Builds module\n",
    "* Avoids imports (fast compile)\n",
    "\n",
    "```cpp\n",
    "include <pybind11/pybind11.h>\n",
    "namespace py = pybind11;\n",
    "\n",
    "void init_part1(py::module &);\n",
    "void init_part2(py::module &);\n",
    "\n",
    "PYBIND11_MODULE(mymodule, m) {\n",
    "    m.doc() = \"Real code would never have such poor documentation...\";\n",
    "    init_part1(m);\n",
    "    init_part2(m);\n",
    "}\n",
    "```"
   ]
  },
  {
   "cell_type": "code",
   "execution_count": null,
   "metadata": {},
   "outputs": [],
   "source": [
    "%%writefile pyminuit2/pyminuit2.cpp\n",
    "\n",
    "#include <pybind11/pybind11.h>\n",
    "\n",
    "namespace py = pybind11;\n",
    "\n",
    "void init_FCNBase(py::module &);\n",
    "void init_MnUserParameters(py::module &);\n",
    "void init_MnMigrad(py::module &);\n",
    "void init_FunctionMinimum(py::module &);\n",
    "\n",
    "PYBIND11_MODULE(minuit2, m) {\n",
    "    init_FCNBase(m);\n",
    "    init_MnUserParameters(m);\n",
    "    init_MnMigrad(m);\n",
    "    init_FunctionMinimum(m);\n",
    "}"
   ]
  },
  {
   "cell_type": "markdown",
   "metadata": {
    "slideshow": {
     "slide_type": "subslide"
    }
   },
   "source": [
    "We will put all headers in a collective header (not a good idea unless you are trying to show files one per slide)."
   ]
  },
  {
   "cell_type": "code",
   "execution_count": null,
   "metadata": {},
   "outputs": [],
   "source": [
    "%%writefile pyminuit2/PyHeader.h\n",
    "#pragma once\n",
    "#include <pybind11/pybind11.h>\n",
    "#include <pybind11/functional.h>\n",
    "#include <pybind11/numpy.h>\n",
    "#include <pybind11/stl.h>\n",
    "\n",
    "#include <Minuit2/FCNBase.h>\n",
    "#include <Minuit2/MnMigrad.h>\n",
    "#include <Minuit2/MnApplication.h>\n",
    "#include <Minuit2/MnUserParameters.h>\n",
    "#include <Minuit2/FunctionMinimum.h>\n",
    "\n",
    "namespace py = pybind11;\n",
    "using namespace pybind11::literals;\n",
    "using namespace ROOT::Minuit2;"
   ]
  },
  {
   "cell_type": "markdown",
   "metadata": {
    "slideshow": {
     "slide_type": "subslide"
    }
   },
   "source": [
    "## Overloads\n",
    "\n",
    "* Pure virtual methods cannot be instantiated in C++\n",
    "* Have to provide \"Trampoline class\" to provide Python class"
   ]
  },
  {
   "cell_type": "code",
   "execution_count": null,
   "metadata": {
    "slideshow": {
     "slide_type": "-"
    }
   },
   "outputs": [],
   "source": [
    "%%writefile pyminuit2/FCNBase.cpp\n",
    "#include \"PyHeader.h\"\n",
    "class PyFCNBase : public FCNBase {\n",
    "   public:\n",
    "     using FCNBase::FCNBase;\n",
    "\n",
    "     double operator()(const std::vector<double> &v) const override {\n",
    "         PYBIND11_OVERLOAD_PURE_NAME(\n",
    "             double, FCNBase, \"__call__\", operator(), v);}\n",
    "\n",
    "     double Up() const override {\n",
    "         PYBIND11_OVERLOAD_PURE(double, FCNBase, Up, );}\n",
    " };\n",
    "void init_FCNBase(py::module &m) {\n",
    "    py::class_<FCNBase, PyFCNBase>(m, \"FCNBase\")\n",
    "         .def(py::init<>())\n",
    "         .def(\"__call__\", &FCNBase::operator())\n",
    "         .def(\"Up\", &FCNBase::Up);\n",
    "}"
   ]
  },
  {
   "cell_type": "markdown",
   "metadata": {
    "slideshow": {
     "slide_type": "subslide"
    }
   },
   "source": [
    "## Overloaded function signatures:\n",
    "* C++11 syntax: `(bool (MnUserParameters::*)(const std::string &, double)) &MnUserParameters::Add`\n",
    "* C++14 syntax: `py::overload_cast<const std::string &, double>(&MnUserParameters::Add)`"
   ]
  },
  {
   "cell_type": "code",
   "execution_count": null,
   "metadata": {
    "slideshow": {
     "slide_type": "-"
    }
   },
   "outputs": [],
   "source": [
    "%%writefile pyminuit2/MnUserParameters.cpp\n",
    "#include \"PyHeader.h\"\n",
    "\n",
    "void init_MnUserParameters(py::module &m) {\n",
    "    py::class_<MnUserParameters>(m, \"MnUserParameters\")\n",
    "        .def(py::init<>())\n",
    "        .def(\"Add\", (bool (MnUserParameters::*)(const std::string &, double)) &MnUserParameters::Add)\n",
    "        .def(\"Add\", (bool (MnUserParameters::*)(const std::string &, double, double)) &MnUserParameters::Add)\n",
    "    ;\n",
    "}"
   ]
  },
  {
   "cell_type": "markdown",
   "metadata": {
    "slideshow": {
     "slide_type": "subslide"
    }
   },
   "source": [
    "## Adding default arguments (and named arguments)\n",
    "* Using `\"\"_a` literal, names and even defaults can be added "
   ]
  },
  {
   "cell_type": "code",
   "execution_count": null,
   "metadata": {
    "slideshow": {
     "slide_type": "-"
    }
   },
   "outputs": [],
   "source": [
    "%%writefile pyminuit2/MnMigrad.cpp\n",
    "#include \"PyHeader.h\"\n",
    "        \n",
    "void init_MnMigrad(py::module &m) {\n",
    "    py::class_<MnApplication>(m, \"MnApplication\")\n",
    "        .def(\"__call__\",\n",
    "             &MnApplication::operator(),\n",
    "             \"Minimize the function, returns a function minimum\",\n",
    "             py::arg(\"maxfcn\")    = 0,\n",
    "             \"tolerance\"_a = 0.1);\n",
    "    \n",
    "    py::class_<MnMigrad, MnApplication>(m, \"MnMigrad\")\n",
    "        .def(py::init<const FCNBase &, const MnUserParameters &, unsigned int>(),\n",
    "             \"fcn\"_a, \"par\"_a, \"stra\"_a = 1)\n",
    "    ;\n",
    "}    "
   ]
  },
  {
   "cell_type": "markdown",
   "metadata": {
    "slideshow": {
     "slide_type": "subslide"
    }
   },
   "source": [
    "## Lambda functions\n",
    "\n",
    "* Pybind11 accepts lambda functions, as well"
   ]
  },
  {
   "cell_type": "code",
   "execution_count": null,
   "metadata": {
    "slideshow": {
     "slide_type": "-"
    }
   },
   "outputs": [],
   "source": [
    "%%writefile pyminuit2/FunctionMinimum.cpp\n",
    "#include \"PyHeader.h\"\n",
    "\n",
    "#include <sstream>\n",
    "#include <Minuit2/MnPrint.h>\n",
    "\n",
    "void init_FunctionMinimum(py::module &m) {\n",
    "    py::class_<FunctionMinimum>(m, \"FunctionMinimum\")\n",
    "        .def(\"__str__\", [](const FunctionMinimum &self) {\n",
    "            std::stringstream os;\n",
    "            os << self;\n",
    "            return os.str();\n",
    "        })\n",
    "    ;\n",
    "}"
   ]
  },
  {
   "cell_type": "code",
   "execution_count": null,
   "metadata": {
    "slideshow": {
     "slide_type": "subslide"
    }
   },
   "outputs": [],
   "source": [
    "%%writefile CMakeLists.txt\n",
    "\n",
    "cmake_minimum_required(VERSION 3.4)\n",
    "project(Minuit2SimpleExamle LANGUAGES CXX)\n",
    "\n",
    "set(CMAKE_POSITION_INDEPENDENT_CODE ON)\n",
    "add_subdirectory(minuit2)\n",
    "add_executable(simpleminuit simpleminuit.cpp SimpleFCN.h)\n",
    "target_link_libraries(simpleminuit PRIVATE Minuit2::Minuit2)\n",
    "\n",
    "target_compile_definitions(Minuit2Math PUBLIC MATHCORE_STANDALONE)\n",
    "\n",
    "find_package(pybind11)\n",
    "\n",
    "file(GLOB OUTPUT pyminuit2/*.cpp)\n",
    "pybind11_add_module(minuit2 ${OUTPUT})\n",
    "target_link_libraries(minuit2 PUBLIC Minuit2::Minuit2)"
   ]
  },
  {
   "cell_type": "code",
   "execution_count": null,
   "metadata": {
    "slideshow": {
     "slide_type": "subslide"
    }
   },
   "outputs": [],
   "source": [
    "!cmake .\n",
    "!cmake --build ."
   ]
  },
  {
   "cell_type": "markdown",
   "metadata": {
    "slideshow": {
     "slide_type": "slide"
    }
   },
   "source": [
    "# Usage\n",
    "\n",
    "We can now use our module! (Built in the current directory by CMake)"
   ]
  },
  {
   "cell_type": "code",
   "execution_count": null,
   "metadata": {
    "slideshow": {
     "slide_type": "-"
    }
   },
   "outputs": [],
   "source": [
    "import minuit2\n",
    "\n",
    "\n",
    "class SimpleFCN(minuit2.FCNBase):\n",
    "    def Up(self):\n",
    "        return 0.5\n",
    "\n",
    "    def __call__(self, v):\n",
    "        print(\"val =\", v[0])\n",
    "        return v[0] ** 2"
   ]
  },
  {
   "cell_type": "code",
   "execution_count": null,
   "metadata": {
    "slideshow": {
     "slide_type": "subslide"
    }
   },
   "outputs": [],
   "source": [
    "fcn = SimpleFCN()\n",
    "upar = minuit2.MnUserParameters()\n",
    "upar.Add(\"x\", 1.0, 0.1)\n",
    "migrad = minuit2.MnMigrad(fcn, upar)\n",
    "min = migrad()"
   ]
  },
  {
   "cell_type": "code",
   "execution_count": null,
   "metadata": {
    "slideshow": {
     "slide_type": "subslide"
    }
   },
   "outputs": [],
   "source": [
    "print(min)"
   ]
  },
  {
   "cell_type": "markdown",
   "metadata": {
    "slideshow": {
     "slide_type": "slide"
    }
   },
   "source": [
    "# Done\n",
    "\n",
    "* See [GooFit's built in Minuit2 bindings](https://github.com/GooFit/GooFit/tree/master/python/Minuit2) for a more complete example\n",
    "* Pybind11 bindings can talk to each other at the C level!"
   ]
  },
  {
   "cell_type": "markdown",
   "metadata": {
    "slideshow": {
     "slide_type": "slide"
    }
   },
   "source": [
    "# Bonus:\n",
    "\n",
    "This is the setup.py file for the Miniut2 bindings. With this, you can use the standard Python tools to build! (but slower and more verbose than CMake)"
   ]
  },
  {
   "cell_type": "code",
   "execution_count": null,
   "metadata": {},
   "outputs": [],
   "source": [
    "%%writefile pyproject.toml\n",
    "\n",
    "[build-system]\n",
    "requires = [\n",
    "    \"setuptools>=42\",\n",
    "    \"wheel\",\n",
    "    \"pybind11>=2.6\"\n",
    "]\n",
    "\n",
    "build-backend = \"setuptools.build_meta\"\n"
   ]
  },
  {
   "cell_type": "markdown",
   "metadata": {},
   "source": [
    "The pyproject.toml will be picked up by a proper pip install. We already have pybind11 and don't need to worry about it, so we'll just keep using build_ext. Don't do this in real development unless you know what you are doing."
   ]
  },
  {
   "cell_type": "code",
   "execution_count": null,
   "metadata": {
    "slideshow": {
     "slide_type": "subslide"
    }
   },
   "outputs": [],
   "source": [
    "%%writefile setup.py\n",
    "\n",
    "from setuptools import setup\n",
    "from pybind11.setup_helpers import Pybind11Extension, ParallelCompile\n",
    "from pathlib import Path\n",
    "\n",
    "sources = set(str(p) for p in Path('minuit2/src').glob('**/*.cxx'))\n",
    "sources.remove('minuit2/src/TMinuit2TraceObject.cxx')\n",
    "\n",
    "## Add your sources to `sources`\n",
    "sources |= set(str(p) for p in Path('pyminuit2').glob('*.cpp'))\n",
    "\n",
    "ext_modules = [\n",
    "    Pybind11Extension(\n",
    "        'minuit2',\n",
    "        sorted(sources),\n",
    "        include_dirs=['minuit2/inc'],\n",
    "        cxx_std=11,\n",
    "        define_macros=[('WARNINGMSG', None),\n",
    "                       ('MATH_NO_PLUGIN_MANAGER', None),\n",
    "                       ('ROOT_Math_VecTypes', None),\n",
    "                       ('MATHCORE_STANDALONE', None)\n",
    "                      ],\n",
    "    ),\n",
    "]\n",
    "\n",
    "ParallelCompile().install()\n",
    "\n",
    "setup(\n",
    "    name='minuit2',\n",
    "    version='6.18.0',\n",
    "    author='Henry Schriener',\n",
    "    author_email='hschrein@cern.ch',\n",
    "    url='https://github.com/GooFit/Minuit2',\n",
    "    description='A Pybind11 Minuit2 binding',\n",
    "    long_description='',\n",
    "    ext_modules=ext_modules,\n",
    "    install_requires=['numpy>=1.10'],\n",
    "    zip_safe=False,\n",
    ")"
   ]
  },
  {
   "cell_type": "code",
   "execution_count": null,
   "metadata": {
    "scrolled": true,
    "slideshow": {
     "slide_type": "subslide"
    }
   },
   "outputs": [],
   "source": [
    "!python setup.py build_ext --inplace"
   ]
  }
 ],
 "metadata": {
  "kernelspec": {
   "display_name": "Python 3 (ipykernel)",
   "language": "python",
   "name": "python3"
  },
  "language_info": {
   "codemirror_mode": {
    "name": "ipython",
    "version": 3
   },
   "file_extension": ".py",
   "mimetype": "text/x-python",
   "name": "python",
   "nbconvert_exporter": "python",
   "pygments_lexer": "ipython3",
   "version": "3.9.0"
  }
 },
 "nbformat": 4,
 "nbformat_minor": 4
}
